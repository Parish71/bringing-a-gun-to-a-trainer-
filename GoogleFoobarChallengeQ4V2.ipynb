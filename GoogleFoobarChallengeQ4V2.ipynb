{
 "cells": [
  {
   "cell_type": "code",
   "execution_count": 2,
   "id": "4579d0ee",
   "metadata": {},
   "outputs": [],
   "source": [
    "import math\n",
    "\n",
    "def get_mirror_coordinates(size,pos,rel_cg,layer_count):\n",
    "    [w,h] = size\n",
    "    (px,py) = pos\n",
    "    \n",
    "    dxR = (w-px)*2\n",
    "    dxL = px*2\n",
    "    x= [px-rel_cg[0]]*(layer_count*2+1)\n",
    "    for i in range(layer_count+1,layer_count*2+1):\n",
    "        x[i] = x[i-1]+dxR if (i-layer_count-1)%2==0 else x[i-1]+dxL\n",
    "    for i in range(layer_count-1,-1,-1):\n",
    "        x[i] = x[i+1]-dxL if (layer_count-1-i)%2==0 else x[i+1]-dxR\n",
    "        \n",
    "    dyU = (h-py)*2 #275-100=175*2=350\n",
    "    dyD = py*2\n",
    "    y= [py-rel_cg[1]]*(layer_count*2+1)\n",
    "    for i in range(layer_count+1,layer_count*2+1):\n",
    "        y[i] = y[i-1]+dyU if (i-layer_count-1)%2==0 else y[i-1]+dyD\n",
    "    for i in range(layer_count-1,-1,-1):\n",
    "        y[i] = y[i+1]-dyD if (layer_count-1-i)%2==0 else y[i+1]-dyU\n",
    "\n",
    "    return x,y\n",
    "\n",
    "def solution(dimensions, your_position, trainer_position, distance):\n",
    "    player_pos = (your_position[0],your_position[1])\n",
    "    trainer_pos = (trainer_position[0], trainer_position[1])\n",
    "    min_d = min(dimensions)\n",
    "    layer_count = (distance//min_d)+1 \n",
    "\n",
    "    px, py = get_mirror_coordinates(dimensions,player_pos,player_pos,layer_count)\n",
    "    tx, ty = get_mirror_coordinates(dimensions,trainer_pos,player_pos,layer_count)\n",
    "\n",
    "    angle_dist = {}\n",
    "    \n",
    "    for _x in px:\n",
    "        for _y in py:\n",
    "            if (_x==0 and _y==0):\n",
    "                continue\n",
    "            d = math.hypot(_y,_x)\n",
    "            if d<=distance:\n",
    "                beam =  math.atan2(_y, _x)\n",
    "                if beam in angle_dist:                \n",
    "                    if d<angle_dist[beam]:\n",
    "                        angle_dist[beam] = d\n",
    "                else:\n",
    "                    angle_dist[beam] = d\n",
    "    \n",
    "    res = set()\n",
    "    for _x in tx:\n",
    "        for _y in ty:\n",
    "            d = math.hypot(_y,_x)\n",
    "            if d<=distance:\n",
    "                beam =  math.atan2(_y, _x)\n",
    "                if beam in angle_dist:\n",
    "                    if d<angle_dist[beam]:\n",
    "                        angle_dist[beam] = d\n",
    "                        #res.add((_x,_y))\n",
    "                        res.add(beam)\n",
    "                        #print(f'({player_pos[0]+_x},{player_pos[1]+_y})')\n",
    "                else:\n",
    "                    angle_dist[beam] = d\n",
    "                    res.add(beam)\n",
    "                    #print(f'({player_pos[0]+_x},{player_pos[1]+_y})')\n",
    "    #print(res)                \n",
    "    return len(res)"
   ]
  },
  {
   "cell_type": "code",
   "execution_count": 3,
   "id": "490d5d97",
   "metadata": {},
   "outputs": [
    {
     "name": "stdout",
     "output_type": "stream",
     "text": [
      "7\n",
      "9\n"
     ]
    }
   ],
   "source": [
    "\n",
    "# Test cases\n",
    "print(solution([3, 2], [1, 1], [2, 1], 4 ))  # Output should be 7\n",
    "print(solution([300, 275], [150, 150], [185, 100], 500))  # Output should be 9\n"
   ]
  }
 ],
 "metadata": {
  "kernelspec": {
   "display_name": "Python 3 (ipykernel)",
   "language": "python",
   "name": "python3"
  },
  "language_info": {
   "codemirror_mode": {
    "name": "ipython",
    "version": 3
   },
   "file_extension": ".py",
   "mimetype": "text/x-python",
   "name": "python",
   "nbconvert_exporter": "python",
   "pygments_lexer": "ipython3",
   "version": "3.9.13"
  }
 },
 "nbformat": 4,
 "nbformat_minor": 5
}
